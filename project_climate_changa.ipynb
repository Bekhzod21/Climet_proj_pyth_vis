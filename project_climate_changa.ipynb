{
 "cells": [
  {
   "cell_type": "code",
   "execution_count": 22,
   "metadata": {},
   "outputs": [
    {
     "name": "stdout",
     "output_type": "stream",
     "text": [
      "Done\n"
     ]
    }
   ],
   "source": [
    "print(\"Done\")"
   ]
  },
  {
   "cell_type": "code",
   "execution_count": 23,
   "metadata": {},
   "outputs": [],
   "source": [
    "import numpy as np"
   ]
  },
  {
   "cell_type": "code",
   "execution_count": 24,
   "metadata": {},
   "outputs": [],
   "source": [
    "import pandas as pd"
   ]
  },
  {
   "cell_type": "code",
   "execution_count": 25,
   "metadata": {},
   "outputs": [],
   "source": [
    "import matplotlib as plt"
   ]
  },
  {
   "cell_type": "code",
   "execution_count": 26,
   "metadata": {},
   "outputs": [
    {
     "name": "stdout",
     "output_type": "stream",
     "text": [
      "test\n"
     ]
    }
   ],
   "source": [
    "print (\"test\")"
   ]
  },
  {
   "cell_type": "code",
   "execution_count": 27,
   "metadata": {},
   "outputs": [
    {
     "name": "stdout",
     "output_type": "stream",
     "text": [
      "interesting\n"
     ]
    }
   ],
   "source": [
    "print(\"interesting\")"
   ]
  },
  {
   "cell_type": "code",
   "execution_count": 28,
   "metadata": {},
   "outputs": [],
   "source": [
    "#gt=pd.read_csv('GHCND_sample_csv.csv')"
   ]
  },
  {
   "cell_type": "code",
   "execution_count": 29,
   "metadata": {},
   "outputs": [],
   "source": [
    "#at = pd.read_csv('Environment_Temperature_change_E_All_Data_(Normalized).csv')"
   ]
  },
  {
   "cell_type": "code",
   "execution_count": 30,
   "metadata": {},
   "outputs": [],
   "source": [
    "gt=pd.read_csv('GHCND_sample_csv.csv')"
   ]
  },
  {
   "cell_type": "code",
   "execution_count": 31,
   "metadata": {},
   "outputs": [
    {
     "name": "stdout",
     "output_type": "stream",
     "text": [
      "              STATION          STATION_NAME  ELEVATION  LATITUDE  LONGITUDE  \\\n",
      "0   GHCND:USC00327027  PETERSBURG 2 N ND US      466.3   48.0355     -98.01   \n",
      "1   GHCND:USC00327027  PETERSBURG 2 N ND US      466.3   48.0355     -98.01   \n",
      "2   GHCND:USC00327027  PETERSBURG 2 N ND US      466.3   48.0355     -98.01   \n",
      "3   GHCND:USC00327027  PETERSBURG 2 N ND US      466.3   48.0355     -98.01   \n",
      "4   GHCND:USC00327027  PETERSBURG 2 N ND US      466.3   48.0355     -98.01   \n",
      "5   GHCND:USC00327027  PETERSBURG 2 N ND US      466.3   48.0355     -98.01   \n",
      "6   GHCND:USC00327027  PETERSBURG 2 N ND US      466.3   48.0355     -98.01   \n",
      "7   GHCND:USC00327027  PETERSBURG 2 N ND US      466.3   48.0355     -98.01   \n",
      "8   GHCND:USC00327027  PETERSBURG 2 N ND US      466.3   48.0355     -98.01   \n",
      "9   GHCND:USC00327027  PETERSBURG 2 N ND US      466.3   48.0355     -98.01   \n",
      "10  GHCND:USC00327027  PETERSBURG 2 N ND US      466.3   48.0355     -98.01   \n",
      "11  GHCND:USC00327027  PETERSBURG 2 N ND US      466.3   48.0355     -98.01   \n",
      "12  GHCND:USC00327027  PETERSBURG 2 N ND US      466.3   48.0355     -98.01   \n",
      "13  GHCND:USC00327027  PETERSBURG 2 N ND US      466.3   48.0355     -98.01   \n",
      "14  GHCND:USC00327027  PETERSBURG 2 N ND US      466.3   48.0355     -98.01   \n",
      "15  GHCND:USC00327027  PETERSBURG 2 N ND US      466.3   48.0355     -98.01   \n",
      "16  GHCND:USC00327027  PETERSBURG 2 N ND US      466.3   48.0355     -98.01   \n",
      "17  GHCND:USC00327027  PETERSBURG 2 N ND US      466.3   48.0355     -98.01   \n",
      "18  GHCND:USC00327027  PETERSBURG 2 N ND US      466.3   48.0355     -98.01   \n",
      "19  GHCND:USC00327027  PETERSBURG 2 N ND US      466.3   48.0355     -98.01   \n",
      "20  GHCND:USC00327027  PETERSBURG 2 N ND US      466.3   48.0355     -98.01   \n",
      "21  GHCND:USC00327027  PETERSBURG 2 N ND US      466.3   48.0355     -98.01   \n",
      "22  GHCND:USC00327027  PETERSBURG 2 N ND US      466.3   48.0355     -98.01   \n",
      "23  GHCND:USC00327027  PETERSBURG 2 N ND US      466.3   48.0355     -98.01   \n",
      "24  GHCND:USC00327027  PETERSBURG 2 N ND US      466.3   48.0355     -98.01   \n",
      "25  GHCND:USC00327027  PETERSBURG 2 N ND US      466.3   48.0355     -98.01   \n",
      "26  GHCND:USC00327027  PETERSBURG 2 N ND US      466.3   48.0355     -98.01   \n",
      "27  GHCND:USC00327027  PETERSBURG 2 N ND US      466.3   48.0355     -98.01   \n",
      "28  GHCND:USC00327027  PETERSBURG 2 N ND US      466.3   48.0355     -98.01   \n",
      "29  GHCND:USC00327027  PETERSBURG 2 N ND US      466.3   48.0355     -98.01   \n",
      "30  GHCND:USC00327027  PETERSBURG 2 N ND US      466.3   48.0355     -98.01   \n",
      "\n",
      "        DATE  TMAX  TMIN  PRCP  \n",
      "0   20100101  -178  -311     0  \n",
      "1   20100102  -244  -322     0  \n",
      "2   20100103  -194  -289     0  \n",
      "3   20100104  -167  -200    15  \n",
      "4   20100105  -133  -167  9999  \n",
      "5   20100106  -133  -172  9999  \n",
      "6   20100107  -150  -278     0  \n",
      "7   20100108  -233  -328     0  \n",
      "8   20100109  -233  -322     0  \n",
      "9   20100110  -117  -244     0  \n",
      "10  20100111   -67  -128     0  \n",
      "11  20100112   -78  -122     0  \n",
      "12  20100113   -17   -89     0  \n",
      "13  20100114    39   -72     0  \n",
      "14  20100115   -67   -72     0  \n",
      "15  20100116    22   -50     0  \n",
      "16  20100117    33   -44     0  \n",
      "17  20100118     6  -172     0  \n",
      "18  20100119   -56  -183     0  \n",
      "19  20100120   -67  -139     0  \n",
      "20  20100121   -67   -94    25  \n",
      "21  20100122   -44   -67     0  \n",
      "22  20100123    -6   -44     0  \n",
      "23  20100124     0   -11     0  \n",
      "24  20100125   -11  -161     0  \n",
      "25  20100126  -161  -233     0  \n",
      "26  20100127  -167  -222     0  \n",
      "27  20100128  -167  -283     0  \n",
      "28  20100129  -189  -283     0  \n",
      "29  20100130  -156  -267     0  \n",
      "30  20100131  -150  -272     0  \n"
     ]
    }
   ],
   "source": [
    "print(gt)"
   ]
  },
  {
   "cell_type": "code",
   "execution_count": 4,
   "metadata": {},
   "outputs": [
    {
     "ename": "NameError",
     "evalue": "name 'pd' is not defined",
     "output_type": "error",
     "traceback": [
      "\u001b[1;31m---------------------------------------------------------------------------\u001b[0m",
      "\u001b[1;31mNameError\u001b[0m                                 Traceback (most recent call last)",
      "\u001b[1;32m~\\AppData\\Local\\Temp/ipykernel_20008/3736406727.py\u001b[0m in \u001b[0;36m<module>\u001b[1;34m\u001b[0m\n\u001b[1;32m----> 1\u001b[1;33m \u001b[0mdf\u001b[0m \u001b[1;33m=\u001b[0m \u001b[0mpd\u001b[0m\u001b[1;33m.\u001b[0m\u001b[0mread_csv\u001b[0m\u001b[1;33m(\u001b[0m\u001b[1;34mr'C:\\Users\\Behzod\\Documents\\python\\python tutorials_QY\\python project climate\\Climet_proj_pyth_vis-1\\Environment_Temperature_change_E_All_Data_Normalized.csv'\u001b[0m\u001b[1;33m,\u001b[0m \u001b[0mencoding\u001b[0m\u001b[1;33m=\u001b[0m\u001b[1;34m\"latin1\"\u001b[0m\u001b[1;33m)\u001b[0m\u001b[1;33m\u001b[0m\u001b[1;33m\u001b[0m\u001b[0m\n\u001b[0m",
      "\u001b[1;31mNameError\u001b[0m: name 'pd' is not defined"
     ]
    }
   ],
   "source": [
    "df = pd.read_csv(r'C:\\Users\\Behzod\\Documents\\python\\python tutorials_QY\\python project climate\\Climet_proj_pyth_vis-1\\Environment_Temperature_change_E_All_Data_Normalized.csv', encoding=\"latin1\")\n"
   ]
  }
 ],
 "metadata": {
  "interpreter": {
   "hash": "682b13c16934098a4c63be6645da222696fbe5424c6a2eb359c88ee522016ab0"
  },
  "kernelspec": {
   "display_name": "Python 3.9.6 64-bit",
   "name": "python3"
  },
  "language_info": {
   "codemirror_mode": {
    "name": "ipython",
    "version": 3
   },
   "file_extension": ".py",
   "mimetype": "text/x-python",
   "name": "python",
   "nbconvert_exporter": "python",
   "pygments_lexer": "ipython3",
   "version": "3.9.6"
  },
  "orig_nbformat": 4
 },
 "nbformat": 4,
 "nbformat_minor": 2
}
